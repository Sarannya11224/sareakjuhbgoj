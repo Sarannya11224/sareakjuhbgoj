{
 "cells": [
  {
   "cell_type": "code",
   "execution_count": 2,
   "id": "6b770d8a",
   "metadata": {},
   "outputs": [],
   "source": [
    "from sklearn.datasets import load_iris\n",
    "from sklearn.ensemble import RandomForestClassifier\n",
    "from sklearn.model_selection import train_test_split\n",
    "from sklearn.linear_model import LogisticRegression\n",
    "from sklearn.svm import SVC\n",
    "from sklearn.model_selection import StratifiedKFold\n",
    "from sklearn.model_selection import cross_val_score\n",
    "import numpy as np"
   ]
  },
  {
   "cell_type": "code",
   "execution_count": 3,
   "id": "4854753d",
   "metadata": {},
   "outputs": [],
   "source": [
    "iris=load_iris()"
   ]
  },
  {
   "cell_type": "code",
   "execution_count": 4,
   "id": "fd13ed7f",
   "metadata": {},
   "outputs": [
    {
     "data": {
      "text/plain": [
       "['DESCR',\n",
       " 'data',\n",
       " 'data_module',\n",
       " 'feature_names',\n",
       " 'filename',\n",
       " 'frame',\n",
       " 'target',\n",
       " 'target_names']"
      ]
     },
     "execution_count": 4,
     "metadata": {},
     "output_type": "execute_result"
    }
   ],
   "source": [
    "dir(iris)"
   ]
  },
  {
   "cell_type": "code",
   "execution_count": 5,
   "id": "7fcd4545",
   "metadata": {},
   "outputs": [
    {
     "data": {
      "text/plain": [
       "StratifiedKFold(n_splits=4, random_state=None, shuffle=False)"
      ]
     },
     "execution_count": 5,
     "metadata": {},
     "output_type": "execute_result"
    }
   ],
   "source": [
    "fold=StratifiedKFold(n_splits=4)\n",
    "fold"
   ]
  },
  {
   "cell_type": "code",
   "execution_count": 6,
   "id": "0a33240b",
   "metadata": {},
   "outputs": [],
   "source": [
    "def get_score_from_model(model,xtrain,xtest,ytrain,ytest):\n",
    "    model.fit(xtrain,ytrain)\n",
    "    return model.score(xtest,ytest)"
   ]
  },
  {
   "cell_type": "code",
   "execution_count": 8,
   "id": "be6849fe",
   "metadata": {},
   "outputs": [],
   "source": [
    "from sklearn.model_selection import cross_val_score\n"
   ]
  },
  {
   "cell_type": "code",
   "execution_count": 9,
   "id": "a516d2b8",
   "metadata": {},
   "outputs": [
    {
     "name": "stderr",
     "output_type": "stream",
     "text": [
      "C:\\Users\\USER\\anaconda3\\Lib\\site-packages\\sklearn\\linear_model\\_logistic.py:460: ConvergenceWarning: lbfgs failed to converge (status=1):\n",
      "STOP: TOTAL NO. of ITERATIONS REACHED LIMIT.\n",
      "\n",
      "Increase the number of iterations (max_iter) or scale the data as shown in:\n",
      "    https://scikit-learn.org/stable/modules/preprocessing.html\n",
      "Please also refer to the documentation for alternative solver options:\n",
      "    https://scikit-learn.org/stable/modules/linear_model.html#logistic-regression\n",
      "  n_iter_i = _check_optimize_result(\n"
     ]
    }
   ],
   "source": [
    "l_scores=cross_val_score(LogisticRegression(),X=iris.data,y=iris.target)"
   ]
  },
  {
   "cell_type": "code",
   "execution_count": 12,
   "id": "95f27bee",
   "metadata": {},
   "outputs": [],
   "source": [
    "svc_scores=cross_val_score(SVC(),X=iris.data,y=iris.target)"
   ]
  },
  {
   "cell_type": "code",
   "execution_count": 13,
   "id": "d3d1377d",
   "metadata": {},
   "outputs": [],
   "source": [
    "rf_scores=cross_val_score(RandomForestClassifier(),X=iris.data,y=iris.target)"
   ]
  },
  {
   "cell_type": "code",
   "execution_count": 14,
   "id": "55665334",
   "metadata": {},
   "outputs": [
    {
     "name": "stdout",
     "output_type": "stream",
     "text": [
      "[0.96666667 1.         0.93333333 0.96666667 1.        ]\n"
     ]
    }
   ],
   "source": [
    "print(l_scores)"
   ]
  },
  {
   "cell_type": "code",
   "execution_count": 15,
   "id": "9b36316f",
   "metadata": {},
   "outputs": [
    {
     "name": "stdout",
     "output_type": "stream",
     "text": [
      "[0.96666667 0.96666667 0.96666667 0.93333333 1.        ]\n"
     ]
    }
   ],
   "source": [
    "print(svc_scores)"
   ]
  },
  {
   "cell_type": "code",
   "execution_count": 16,
   "id": "661530bd",
   "metadata": {},
   "outputs": [
    {
     "name": "stdout",
     "output_type": "stream",
     "text": [
      "[0.96666667 0.96666667 0.93333333 0.96666667 1.        ]\n"
     ]
    }
   ],
   "source": [
    "print(rf_scores)"
   ]
  },
  {
   "cell_type": "code",
   "execution_count": 18,
   "id": "78b388ae",
   "metadata": {},
   "outputs": [
    {
     "name": "stdout",
     "output_type": "stream",
     "text": [
      "mean_l_scores is 0.9733333333333334\n"
     ]
    }
   ],
   "source": [
    "mean_l_scores=np.mean(l_scores)\n",
    "print(\"mean_l_scores is\",mean_l_scores)"
   ]
  },
  {
   "cell_type": "code",
   "execution_count": 19,
   "id": "dd36a38f",
   "metadata": {},
   "outputs": [
    {
     "name": "stdout",
     "output_type": "stream",
     "text": [
      "mean_svc_scores is 0.9666666666666666\n"
     ]
    }
   ],
   "source": [
    "mean_svc_scores=np.mean(svc_scores)\n",
    "print(\"mean_svc_scores is\",mean_svc_scores)"
   ]
  },
  {
   "cell_type": "code",
   "execution_count": 20,
   "id": "54be43f2",
   "metadata": {},
   "outputs": [
    {
     "name": "stdout",
     "output_type": "stream",
     "text": [
      "mean_rf_scores is 0.9666666666666668\n"
     ]
    }
   ],
   "source": [
    "mean_rf_scores=np.mean(rf_scores)\n",
    "print(\"mean_rf_scores is\",mean_rf_scores)"
   ]
  },
  {
   "cell_type": "code",
   "execution_count": null,
   "id": "4186512a",
   "metadata": {},
   "outputs": [],
   "source": []
  }
 ],
 "metadata": {
  "kernelspec": {
   "display_name": "Python 3 (ipykernel)",
   "language": "python",
   "name": "python3"
  },
  "language_info": {
   "codemirror_mode": {
    "name": "ipython",
    "version": 3
   },
   "file_extension": ".py",
   "mimetype": "text/x-python",
   "name": "python",
   "nbconvert_exporter": "python",
   "pygments_lexer": "ipython3",
   "version": "3.11.5"
  }
 },
 "nbformat": 4,
 "nbformat_minor": 5
}
